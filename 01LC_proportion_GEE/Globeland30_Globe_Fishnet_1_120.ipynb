{
 "cells": [
  {
   "cell_type": "code",
   "execution_count": null,
   "id": "ef4e7f80",
   "metadata": {},
   "outputs": [],
   "source": [
    "import os\n",
    "import ee\n",
    "import geemap\n",
    "import math\n",
    "Map = geemap.Map()\n",
    "ee.Initialize()\n",
    "Map"
   ]
  },
  {
   "cell_type": "code",
   "execution_count": null,
   "id": "b6e25a47",
   "metadata": {},
   "outputs": [],
   "source": [
    "import urllib.request"
   ]
  },
  {
   "cell_type": "code",
   "execution_count": null,
   "id": "c5dd843c",
   "metadata": {},
   "outputs": [],
   "source": [
    "geemap.ee_search()"
   ]
  },
  {
   "cell_type": "code",
   "execution_count": null,
   "id": "ba40ff07",
   "metadata": {},
   "outputs": [],
   "source": [
    "def generateGrid(xmin, xmax, dx, y1, y2):\n",
    "    xx = ee.List.sequence(xmin, ee.Number(xmax).subtract(dx), dx)\n",
    "    cells = xx.map(func_uke).flatten()\n",
    "    return ee.FeatureCollection(cells)\n",
    "\n",
    "def func_uke(x):\n",
    "    x1 = ee.Number(x)\n",
    "    x2 = ee.Number(x).add(ee.Number(dx))\n",
    "    coords = ee.List([x1, y1, x2, y2])\n",
    "    rect = ee.Algorithms.GeometryConstructors.Rectangle(coords)\n",
    "    return ee.Feature(rect)"
   ]
  },
  {
   "cell_type": "code",
   "execution_count": null,
   "id": "1c21d0f4",
   "metadata": {},
   "outputs": [],
   "source": [
    "def func_feh(feature):                 \n",
    "    arableland = feature.getNumber('arableland')\n",
    "    forest = feature.getNumber('forest')\n",
    "    grassland = feature.getNumber('grassland')\n",
    "    shrubland = feature.getNumber('shrubland')\n",
    "    wetlands = feature.getNumber('wetlands')\n",
    "    waterbody = feature.getNumber('waterbody')\n",
    "    tundra = feature.getNumber('tundra')\n",
    "    atificalsurface = feature.getNumber('atificalsurface')\n",
    "    bareground = feature.getNumber('bareground')\n",
    "    permanentsnow = feature.getNumber('permanentsnow')\n",
    "    Land = feature.getNumber('Land')   \n",
    "    return feature.set({\n",
    "        'arableland':arableland.divide(Land),\n",
    "        'forest':forest.divide(Land),\n",
    "        'grassland':grassland.divide(Land),\n",
    "        'shrubland':shrubland.divide(Land),\n",
    "        'wetlands':wetlands.divide(Land),\n",
    "        'waterbody':waterbody.divide(Land),\n",
    "        'tundra':tundra.divide(Land),\n",
    "        'atificalsurface':atificalsurface.divide(Land),\n",
    "        'bareground':bareground.divide(Land),\n",
    "        'permanentsnow':permanentsnow.divide(Land),\n",
    "        'Land':Land.divide(Land)\n",
    "     })"
   ]
  },
  {
   "cell_type": "code",
   "execution_count": null,
   "id": "f1639b33",
   "metadata": {},
   "outputs": [],
   "source": [
    "import requests\n",
    "from retrying import retry\n",
    "@retry(stop_max_attempt_number=40, wait_fixed=2000)\n",
    "def get_request(url):\n",
    "    response = urllib.request.urlretrieve(url, filename=out_ndvi_stats)\n",
    "    return response"
   ]
  },
  {
   "cell_type": "code",
   "execution_count": null,
   "id": "fc1fa6e8",
   "metadata": {},
   "outputs": [],
   "source": [
    "dx = 1/120\n",
    "xmin = 0\n",
    "xmax = 180\n",
    "ymin = -58\n",
    "ymax = 90\n",
    "yrange = round((ymax - ymin  - 0.0001)/dx)+1\n",
    "print(yrange)"
   ]
  },
  {
   "cell_type": "code",
   "execution_count": null,
   "id": "38bce51e",
   "metadata": {},
   "outputs": [],
   "source": [
    "lat_list = ['n_80_n','n_75_n','n_70_n','n_65_n','n_60_n','n_55_n','n_50_n','n_45_n','n_40_n','n_35_n','n_30_n','n_25_n','n_20_n','n_15_n','n_10_n','n_05_n','n_00_n','s_00_s','s_05_s','s_10_s','s_15_s','s_20_s','s_25_s','s_30_s','s_35_s','s_40_s','s_45_s','s_50_s','s_55_s']"
   ]
  },
  {
   "cell_type": "code",
   "execution_count": null,
   "id": "aa25120f",
   "metadata": {
    "scrolled": true
   },
   "outputs": [],
   "source": [
    "for year_index in range(0,3):\n",
    "    for i in range (0,18000):\n",
    "        try:          \n",
    "            year = 2000 + 10*year_index\n",
    "            lat_i = int(i/600)-1\n",
    "            latitude = lat_list[lat_i]\n",
    "            path = 'users/1801213219/Globeland30_2000/Globeland30'+latitude+'_'+str(year)\n",
    "            image_lc = ee.Image(path)\n",
    "            arableland_pro= image_lc.gte(2)\n",
    "            arableland = image_lc.updateMask(arableland_pro).lte(19).unmask(0)\n",
    "            forest_pro= image_lc.gte(20)\n",
    "            forest = image_lc.updateMask(forest_pro).lte(29).unmask(0)\n",
    "            grassland_pro= image_lc.gte(30)\n",
    "            grassland = image_lc.updateMask(grassland_pro).lte(39).unmask(0)\n",
    "            shrubland_pro= image_lc.gte(40)\n",
    "            shrubland = image_lc.updateMask(shrubland_pro).lte(49).unmask(0)\n",
    "            wetlands_pro= image_lc.gte(50)\n",
    "            wetlands = image_lc.updateMask(wetlands_pro).lte(59).unmask(0)\n",
    "            waterbody_pro= image_lc.gte(60)\n",
    "            waterbody = image_lc.updateMask(waterbody_pro).lte(69).unmask(0)\n",
    "            tundra_pro= image_lc.gte(70)\n",
    "            tundra = image_lc.updateMask(tundra_pro).lte(79).unmask(0)\n",
    "            atificalsurface_pro= image_lc.gte(80)\n",
    "            atificalsurface = image_lc.updateMask(atificalsurface_pro).lte(89).unmask(0)\n",
    "            bareground_pro= image_lc.gte(90)\n",
    "            bareground = image_lc.updateMask(bareground_pro).lte(99).unmask(0)\n",
    "            permanentsnow_pro= image_lc.gte(100)\n",
    "            permanentsnow = image_lc.updateMask(permanentsnow_pro).lte(120).unmask(0)\n",
    "            Land_pro= image_lc.gte(2)\n",
    "            Land = image_lc.updateMask(Land_pro).lte(120).unmask(0)\n",
    "            cond = ee.Image.cat(\n",
    "            arableland.eq(1).rename('arableland'),\n",
    "            forest.eq(1).rename('forest'),\n",
    "            grassland.eq(1).rename('grassland'),\n",
    "            shrubland.eq(1).rename('shrubland'),\n",
    "            wetlands.eq(1).rename('wetlands'),\n",
    "            waterbody.eq(1).rename('waterbody'),\n",
    "            tundra.eq(1).rename('tundra'),\n",
    "            atificalsurface.eq(1).rename('atificalsurface'),\n",
    "            bareground.eq(1).rename('bareground'),\n",
    "            permanentsnow.eq(1).rename('permanentsnow'),\n",
    "            Land.eq(1).rename('Land'))\n",
    "            i_g = yrange-i-2\n",
    "            y1 = ymin + i_g*dx\n",
    "            y2 = ymin + (i_g+1)*dx\n",
    "            grid = generateGrid(xmin, xmax, dx, y1, y2)\n",
    "            npsRes = cond.reduceRegions(grid, ee.Reducer.sum(), 60)\n",
    "            npsRes = npsRes.map(func_feh)\n",
    "            name='Globeland30_'+'Globe_'+str(i)+'_Half2.csv'\n",
    "            out_dir = 'G:\\\\LUCC_China\\\\Globeland30\\\\GEE_GlobeRatio\\\\Y'+str(year)+'\\\\Half2'\n",
    "            out_ndvi_stats = os.path.join(out_dir, name)\n",
    "            if not os.path.exists(out_dir):\n",
    "                os.makedirs(out_dir)\n",
    "            url = npsRes.getDownloadURL(filetype=\"csv\", selectors=['TARGET_FID','arableland',\n",
    "                                                                    'forest',\n",
    "                                                                    'grassland',\n",
    "                                                                    'shrubland',\n",
    "                                                                    'wetlands',\n",
    "                                                                    'waterbody',\n",
    "                                                                    'tundra',\n",
    "                                                                    'atificalsurface',\n",
    "                                                                    'bareground',\n",
    "                                                                    'permanentsnow',\n",
    "                                                                    'Land'], filename=name)\n",
    "            print(url)\n",
    "            print(out_ndvi_stats)\n",
    "            get_request(url)\n",
    "        except Exception as e:\n",
    "            print(e)       "
   ]
  },
  {
   "cell_type": "code",
   "execution_count": null,
   "id": "b8815447",
   "metadata": {},
   "outputs": [],
   "source": []
  }
 ],
 "metadata": {
  "kernelspec": {
   "display_name": "Python 3 (ipykernel)",
   "language": "python",
   "name": "python3"
  },
  "language_info": {
   "codemirror_mode": {
    "name": "ipython",
    "version": 3
   },
   "file_extension": ".py",
   "mimetype": "text/x-python",
   "name": "python",
   "nbconvert_exporter": "python",
   "pygments_lexer": "ipython3",
   "version": "3.8.9"
  },
  "varInspector": {
   "cols": {
    "lenName": 16,
    "lenType": 16,
    "lenVar": 40
   },
   "kernels_config": {
    "python": {
     "delete_cmd_postfix": "",
     "delete_cmd_prefix": "del ",
     "library": "var_list.py",
     "varRefreshCmd": "print(var_dic_list())"
    },
    "r": {
     "delete_cmd_postfix": ") ",
     "delete_cmd_prefix": "rm(",
     "library": "var_list.r",
     "varRefreshCmd": "cat(var_dic_list()) "
    }
   },
   "position": {
    "height": "423.844px",
    "left": "2200px",
    "right": "20px",
    "top": "121px",
    "width": "315px"
   },
   "types_to_exclude": [
    "module",
    "function",
    "builtin_function_or_method",
    "instance",
    "_Feature"
   ],
   "window_display": true
  }
 },
 "nbformat": 4,
 "nbformat_minor": 5
}
