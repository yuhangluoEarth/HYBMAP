{
 "cells": [
  {
   "cell_type": "code",
   "execution_count": null,
   "id": "ef4e7f80",
   "metadata": {},
   "outputs": [],
   "source": [
    "import os\n",
    "import ee\n",
    "import geemap\n",
    "import math\n",
    "Map = geemap.Map()\n",
    "ee.Initialize()\n",
    "Map"
   ]
  },
  {
   "cell_type": "code",
   "execution_count": null,
   "id": "b6e25a47",
   "metadata": {},
   "outputs": [],
   "source": [
    "import urllib.request"
   ]
  },
  {
   "cell_type": "code",
   "execution_count": null,
   "id": "c5dd843c",
   "metadata": {},
   "outputs": [],
   "source": [
    "geemap.ee_search()"
   ]
  },
  {
   "cell_type": "code",
   "execution_count": null,
   "id": "ba40ff07",
   "metadata": {},
   "outputs": [],
   "source": [
    "def generateGrid(xmin, xmax, dx, y1, y2):\n",
    "    xx = ee.List.sequence(xmin, ee.Number(xmax).subtract(dx), dx)\n",
    "    cells = xx.map(func_uke).flatten()\n",
    "    return ee.FeatureCollection(cells)\n",
    "\n",
    "def func_uke(x):\n",
    "    x1 = ee.Number(x)\n",
    "    x2 = ee.Number(x).add(ee.Number(dx))\n",
    "    coords = ee.List([x1, y1, x2, y2])\n",
    "    rect = ee.Algorithms.GeometryConstructors.Rectangle(coords)\n",
    "    return ee.Feature(rect)"
   ]
  },
  {
   "cell_type": "code",
   "execution_count": null,
   "id": "1c21d0f4",
   "metadata": {},
   "outputs": [],
   "source": [
    "def func_feh(feature):                 \n",
    "    EvergreenNeedleleafForests5 = feature.getNumber('EvergreenNeedleleafForests5')\n",
    "    EvergreenBroadleafForests5 = feature.getNumber('EvergreenBroadleafForests5')\n",
    "    DeciduousNeedleleafForests5 = feature.getNumber('DeciduousNeedleleafForests5')\n",
    "    DeciduousBroadleafForests5 = feature.getNumber('DeciduousBroadleafForests5')\n",
    "    MixedForests5 = feature.getNumber('MixedForests5')\n",
    "    ClosedShrublands5 = feature.getNumber('ClosedShrublands5')\n",
    "    OpenShrublands5 = feature.getNumber('OpenShrublands5')\n",
    "    WoodySavannas5 = feature.getNumber('WoodySavannas5')\n",
    "    Savannas5 = feature.getNumber('Savannas5')\n",
    "    Grasslands5 = feature.getNumber('Grasslands5')\n",
    "    PermanentWetlands5 = feature.getNumber('PermanentWetlands5')\n",
    "    Croplands5 = feature.getNumber('Croplands5')\n",
    "    UrbanBuiltupLands5 = feature.getNumber('UrbanBuiltupLands5')\n",
    "    CroplandNaturalVegetationMosaics5 = feature.getNumber('CroplandNaturalVegetationMosaics5')\n",
    "    PermanentSnowandIce5 = feature.getNumber('PermanentSnowandIce5')\n",
    "    Barren5 = feature.getNumber('Barren5')\n",
    "    WaterBodies5 = feature.getNumber('WaterBodies5')\n",
    "    Unclassified5 = feature.getNumber('Unclassified5')\n",
    "    Land5 = feature.getNumber('Land5')\n",
    "    \n",
    "    return feature.set({\n",
    "        #自然植被\n",
    "        'EvergreenNeedleleafForests5':EvergreenNeedleleafForests5.divide(Land5),\n",
    "        'EvergreenBroadleafForests5':EvergreenBroadleafForests5.divide(Land5),\n",
    "        'DeciduousNeedleleafForests5':DeciduousNeedleleafForests5.divide(Land5),\n",
    "        'DeciduousBroadleafForests5':DeciduousBroadleafForests5.divide(Land5),\n",
    "        'MixedForests5':MixedForests5.divide(Land5),\n",
    "        'ClosedShrublands5':ClosedShrublands5.divide(Land5),\n",
    "        'OpenShrublands5':OpenShrublands5.divide(Land5),\n",
    "        'WoodySavannas5':WoodySavannas5.divide(Land5),\n",
    "        'Savannas5':Savannas5.divide(Land5),\n",
    "        'Grasslands5':Grasslands5.divide(Land5),\n",
    "        'PermanentWetlands5':PermanentWetlands5.divide(Land5),\n",
    "        'Croplands5':Croplands5.divide(Land5),\n",
    "        'UrbanBuiltupLands5':UrbanBuiltupLands5.divide(Land5),\n",
    "        'CroplandNaturalVegetationMosaics5':CroplandNaturalVegetationMosaics5.divide(Land5),\n",
    "        'PermanentSnowandIce5':PermanentSnowandIce5.divide(Land5),\n",
    "        'Barren5':Barren5.divide(Land5),\n",
    "        'WaterBodies5':WaterBodies5.divide(Land5),\n",
    "        'Unclassified5':Unclassified5.divide(Land5),\n",
    "\n",
    "        'Land5':Land5.divide(Land5)\n",
    "     })"
   ]
  },
  {
   "cell_type": "code",
   "execution_count": null,
   "id": "f1639b33",
   "metadata": {},
   "outputs": [],
   "source": [
    "import requests\n",
    "from retrying import retry\n",
    "@retry(stop_max_attempt_number=1000, wait_fixed=2000)\n",
    "def get_request(url):\n",
    "    response = urllib.request.urlretrieve(url, filename=out_ndvi_stats)\n",
    "    return response"
   ]
  },
  {
   "cell_type": "code",
   "execution_count": null,
   "id": "fc1fa6e8",
   "metadata": {},
   "outputs": [],
   "source": [
    "dx = 1/120\n",
    "xmin = -180\n",
    "xmax = 180\n",
    "ymin = -65\n",
    "ymax = 90\n",
    "yrange = round((ymax - ymin  - 0.0001)/dx)+1\n",
    "print(yrange)"
   ]
  },
  {
   "cell_type": "code",
   "execution_count": null,
   "id": "aa25120f",
   "metadata": {
    "scrolled": true
   },
   "outputs": [],
   "source": [
    "for year_index in range(0,21):\n",
    "    year = 2000 + year_index\n",
    "    year_begin = ee.Date.fromYMD(year,1,1)\n",
    "    year_end = ee.Date.fromYMD(year,12,31)\n",
    "    image_lc = ee.ImageCollection('MODIS/006/MCD12Q1').filterDate(year_begin , year_end).select('LC_Type1').mean()\n",
    "    EvergreenNeedleleafForests = image_lc.eq(1)\n",
    "    EvergreenBroadleafForests = image_lc.eq(2)\n",
    "    DeciduousNeedleleafForests = image_lc.eq(3)\n",
    "    DeciduousBroadleafForests = image_lc.eq(4)\n",
    "    MixedForests = image_lc.eq(5)\n",
    "    ClosedShrublands = image_lc.eq(6)\n",
    "    OpenShrublands = image_lc.eq(7)\n",
    "    WoodySavannas = image_lc.eq(8)\n",
    "    Savannas = image_lc.eq(9)\n",
    "    Grasslands = image_lc.eq(10)\n",
    "    PermanentWetlands = image_lc.eq(11)\n",
    "    Croplands = image_lc.eq(12)\n",
    "    UrbanBuiltupLands = image_lc.eq(13)\n",
    "    CroplandNaturalVegetationMosaics = image_lc.eq(14)\n",
    "    PermanentSnowandIce = image_lc.eq(15)\n",
    "    Barren = image_lc.eq(16)\n",
    "    WaterBodies = image_lc.eq(17)\n",
    "    Unclassified = image_lc.eq(255)\n",
    "\n",
    "    Land = image_lc.lte(255)\n",
    "    cond = ee.Image.cat(\n",
    "    EvergreenNeedleleafForests.eq(1).rename('EvergreenNeedleleafForests5'),\n",
    "    EvergreenBroadleafForests.eq(1).rename('EvergreenBroadleafForests5'),\n",
    "    DeciduousNeedleleafForests.eq(1).rename('DeciduousNeedleleafForests5'),\n",
    "    DeciduousBroadleafForests.eq(1).rename('DeciduousBroadleafForests5'),\n",
    "    MixedForests.eq(1).rename('MixedForests5'),\n",
    "    ClosedShrublands.eq(1).rename('ClosedShrublands5'),\n",
    "    OpenShrublands.eq(1).rename('OpenShrublands5'),\n",
    "    WoodySavannas.eq(1).rename('WoodySavannas5'),\n",
    "    Savannas.eq(1).rename('Savannas5'),\n",
    "    Grasslands.eq(1).rename('Grasslands5'),\n",
    "    PermanentWetlands.eq(1).rename('PermanentWetlands5'),\n",
    "    Croplands.eq(1).rename('Croplands5'),\n",
    "    UrbanBuiltupLands.eq(1).rename('UrbanBuiltupLands5'),\n",
    "    CroplandNaturalVegetationMosaics.eq(1).rename('CroplandNaturalVegetationMosaics5'),\n",
    "    PermanentSnowandIce.eq(1).rename('PermanentSnowandIce5'),\n",
    "    Barren.eq(1).rename('Barren5'),\n",
    "    WaterBodies.eq(1).rename('WaterBodies5'),\n",
    "    Unclassified.eq(1).rename('Unclassified5'),\n",
    "\n",
    "    Land.eq(1).rename('Land5'))\n",
    "    for i in range (0,yrange):\n",
    "        try:\n",
    "            y1 = ymin + i*dx\n",
    "            y2 = ymin + (i+1)*dx\n",
    "            grid = generateGrid(xmin, xmax, dx, y1, y2)\n",
    "            npsRes = cond.reduceRegions(grid, ee.Reducer.sum(), 500)\n",
    "            npsRes = npsRes.map(func_feh)\n",
    "            name='GLC_FCS30_'+'China_Fishnet_'+str(i)+'.csv'\n",
    "            out_dir = 'G:\\\\LUCC_China\\\\MCD12Q1_LC\\\\CN_Fishnet_'+str(year)\n",
    "            out_ndvi_stats = os.path.join(out_dir, name)\n",
    "            if not os.path.exists(out_dir):\n",
    "                os.makedirs(out_dir)\n",
    "            url = npsRes.getDownloadURL(filetype=\"csv\", selectors=['TARGET_FID', 'EvergreenNeedleleafForests5',\n",
    "                                                                    'EvergreenBroadleafForests5',\n",
    "                                                                    'DeciduousNeedleleafForests5',\n",
    "                                                                    'DeciduousBroadleafForests5',\n",
    "                                                                    'MixedForests5',\n",
    "                                                                    'ClosedShrublands5',\n",
    "                                                                    'OpenShrublands5',\n",
    "                                                                    'WoodySavannas5',\n",
    "                                                                    'Savannas5',\n",
    "                                                                    'Grasslands5',\n",
    "                                                                    'PermanentWetlands5',\n",
    "                                                                    'Croplands5',\n",
    "                                                                    'UrbanBuiltupLands5',\n",
    "                                                                    'CroplandNaturalVegetationMosaics5',\n",
    "                                                                    'PermanentSnowandIce5',\n",
    "                                                                    'Barren5',\n",
    "                                                                    'WaterBodies5',\n",
    "                                                                    'Unclassified5',\n",
    "                                                                    'Land5'], filename=name)\n",
    "            print(url)\n",
    "            print(out_ndvi_stats)\n",
    "            get_request(url)\n",
    "        except Exception as e:\n",
    "            print(e)       "
   ]
  },
  {
   "cell_type": "code",
   "execution_count": null,
   "id": "594fc907",
   "metadata": {},
   "outputs": [],
   "source": []
  }
 ],
 "metadata": {
  "kernelspec": {
   "display_name": "Python 3 (ipykernel)",
   "language": "python",
   "name": "python3"
  },
  "language_info": {
   "codemirror_mode": {
    "name": "ipython",
    "version": 3
   },
   "file_extension": ".py",
   "mimetype": "text/x-python",
   "name": "python",
   "nbconvert_exporter": "python",
   "pygments_lexer": "ipython3",
   "version": "3.8.9"
  },
  "varInspector": {
   "cols": {
    "lenName": 16,
    "lenType": 16,
    "lenVar": 40
   },
   "kernels_config": {
    "python": {
     "delete_cmd_postfix": "",
     "delete_cmd_prefix": "del ",
     "library": "var_list.py",
     "varRefreshCmd": "print(var_dic_list())"
    },
    "r": {
     "delete_cmd_postfix": ") ",
     "delete_cmd_prefix": "rm(",
     "library": "var_list.r",
     "varRefreshCmd": "cat(var_dic_list()) "
    }
   },
   "position": {
    "height": "423.844px",
    "left": "2200px",
    "right": "20px",
    "top": "121px",
    "width": "315px"
   },
   "types_to_exclude": [
    "module",
    "function",
    "builtin_function_or_method",
    "instance",
    "_Feature"
   ],
   "window_display": true
  }
 },
 "nbformat": 4,
 "nbformat_minor": 5
}
