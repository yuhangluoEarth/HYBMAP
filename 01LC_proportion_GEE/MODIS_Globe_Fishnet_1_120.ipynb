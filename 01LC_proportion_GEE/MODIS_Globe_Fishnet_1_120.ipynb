{
 "cells": [
  {
   "cell_type": "code",
   "execution_count": null,
   "id": "ef4e7f80",
   "metadata": {},
   "outputs": [],
   "source": [
    "import os\n",
    "import ee\n",
    "import geemap\n",
    "import math\n",
    "Map = geemap.Map()\n",
    "ee.Initialize()\n",
    "Map"
   ]
  },
  {
   "cell_type": "code",
   "execution_count": null,
   "id": "b6e25a47",
   "metadata": {},
   "outputs": [],
   "source": [
    "import urllib.request"
   ]
  },
  {
   "cell_type": "code",
   "execution_count": null,
   "id": "c5dd843c",
   "metadata": {},
   "outputs": [],
   "source": [
    "geemap.ee_search()"
   ]
  },
  {
   "cell_type": "code",
   "execution_count": null,
   "id": "ba40ff07",
   "metadata": {},
   "outputs": [],
   "source": [
    "def generateGrid(xmin, xmax, dx, y1, y2):\n",
    "    xx = ee.List.sequence(xmin, ee.Number(xmax).subtract(dx), dx)\n",
    "    cells = xx.map(func_uke).flatten()\n",
    "    return ee.FeatureCollection(cells)\n",
    "\n",
    "def func_uke(x):\n",
    "    x1 = ee.Number(x)\n",
    "    x2 = ee.Number(x).add(ee.Number(dx))\n",
    "    coords = ee.List([x1, y1, x2, y2])\n",
    "    rect = ee.Algorithms.GeometryConstructors.Rectangle(coords)\n",
    "    return ee.Feature(rect)"
   ]
  },
  {
   "cell_type": "code",
   "execution_count": null,
   "id": "1c21d0f4",
   "metadata": {},
   "outputs": [],
   "source": [
    "def func_feh(feature):                 \n",
    "    EvergreenNeedleleafForests = feature.getNumber('EvergreenNeedleleafForests')\n",
    "    EvergreenBroadleafForests = feature.getNumber('EvergreenBroadleafForests')\n",
    "    DeciduousNeedleleafForests = feature.getNumber('DeciduousNeedleleafForests')\n",
    "    DeciduousBroadleafForests = feature.getNumber('DeciduousBroadleafForests')\n",
    "    MixedForests = feature.getNumber('MixedForests')\n",
    "    ClosedShrublands = feature.getNumber('ClosedShrublands')\n",
    "    OpenShrublands = feature.getNumber('OpenShrublands')\n",
    "    WoodySavannas = feature.getNumber('WoodySavannas')\n",
    "    Savannas = feature.getNumber('Savannas')\n",
    "    Grasslands = feature.getNumber('Grasslands')\n",
    "    PermanentWetlands = feature.getNumber('PermanentWetlands')\n",
    "    Croplands = feature.getNumber('Croplands')\n",
    "    UrbanBuiltupLands = feature.getNumber('UrbanBuiltupLands')\n",
    "    CroplandNaturalVegetationMosaics = feature.getNumber('CroplandNaturalVegetationMosaics')\n",
    "    PermanentSnowandIce = feature.getNumber('PermanentSnowandIce')\n",
    "    Barren = feature.getNumber('Barren')\n",
    "    WaterBodies = feature.getNumber('WaterBodies')\n",
    "    Unclassified = feature.getNumber('Unclassified')\n",
    "    Land = feature.getNumber('Land')\n",
    "    \n",
    "    return feature.set({\n",
    "        'EvergreenNeedleleafForests':EvergreenNeedleleafForests.divide(Land),\n",
    "        'EvergreenBroadleafForests':EvergreenBroadleafForests.divide(Land),\n",
    "        'DeciduousNeedleleafForests':DeciduousNeedleleafForests.divide(Land),\n",
    "        'DeciduousBroadleafForests':DeciduousBroadleafForests.divide(Land),\n",
    "        'MixedForests':MixedForests.divide(Land),\n",
    "        'ClosedShrublands':ClosedShrublands.divide(Land),\n",
    "        'OpenShrublands':OpenShrublands.divide(Land),\n",
    "        'WoodySavannas':WoodySavannas.divide(Land),\n",
    "        'Savannas':Savannas.divide(Land),\n",
    "        'Grasslands':Grasslands.divide(Land),\n",
    "        'PermanentWetlands':PermanentWetlands.divide(Land),\n",
    "        'Croplands':Croplands.divide(Land),\n",
    "        'UrbanBuiltupLands':UrbanBuiltupLands.divide(Land),\n",
    "        'CroplandNaturalVegetationMosaics':CroplandNaturalVegetationMosaics.divide(Land),\n",
    "        'PermanentSnowandIce':PermanentSnowandIce.divide(Land),\n",
    "        'Barren':Barren.divide(Land),\n",
    "        'WaterBodies':WaterBodies.divide(Land),\n",
    "        'Unclassified':Unclassified.divide(Land),\n",
    "        'Land':Land.divide(Land)\n",
    "\n",
    "     })"
   ]
  },
  {
   "cell_type": "code",
   "execution_count": null,
   "id": "f1639b33",
   "metadata": {},
   "outputs": [],
   "source": [
    "import requests\n",
    "from retrying import retry\n",
    "@retry(stop_max_attempt_number=1000, wait_fixed=2000)\n",
    "def get_request(url):\n",
    "    response = urllib.request.urlretrieve(url, filename=out_ndvi_stats)\n",
    "    return response"
   ]
  },
  {
   "cell_type": "code",
   "execution_count": null,
   "id": "fc1fa6e8",
   "metadata": {},
   "outputs": [],
   "source": [
    "dx = 1/120\n",
    "xmin = -180\n",
    "xmax = 180\n",
    "ymin = -65\n",
    "ymax = 90\n",
    "yrange = round((ymax - ymin  - 0.0001)/dx)+1\n",
    "print(yrange)"
   ]
  },
  {
   "cell_type": "code",
   "execution_count": null,
   "id": "aa25120f",
   "metadata": {
    "scrolled": true
   },
   "outputs": [],
   "source": [
    "for year_index in range(0,21):\n",
    "    year = 2000 + year_index\n",
    "    year_begin = ee.Date.fromYMD(year,1,1)\n",
    "    year_end = ee.Date.fromYMD(year,12,31)\n",
    "    image_lc = ee.ImageCollection('MODIS/006/MCD12Q1').filterDate(year_begin , year_end).select('LC_Type1').mean()\n",
    "    EvergreenNeedleleafForests = image_lc.eq(1)\n",
    "    EvergreenBroadleafForests = image_lc.eq(2)\n",
    "    DeciduousNeedleleafForests = image_lc.eq(3)\n",
    "    DeciduousBroadleafForests = image_lc.eq(4)\n",
    "    MixedForests = image_lc.eq(5)\n",
    "    ClosedShrublands = image_lc.eq(6)\n",
    "    OpenShrublands = image_lc.eq(7)\n",
    "    WoodySavannas = image_lc.eq(8)\n",
    "    Savannas = image_lc.eq(9)\n",
    "    Grasslands = image_lc.eq(10)\n",
    "    PermanentWetlands = image_lc.eq(11)\n",
    "    Croplands = image_lc.eq(12)\n",
    "    UrbanBuiltupLands = image_lc.eq(13)\n",
    "    CroplandNaturalVegetationMosaics = image_lc.eq(14)\n",
    "    PermanentSnowandIce = image_lc.eq(15)\n",
    "    Barren = image_lc.eq(16)\n",
    "    WaterBodies = image_lc.eq(17)\n",
    "    Unclassified = image_lc.eq(255)\n",
    "\n",
    "    Land = image_lc.lte(255)\n",
    "    cond = ee.Image.cat(\n",
    "    EvergreenNeedleleafForests.eq(1).rename('EvergreenNeedleleafForests'),\n",
    "    EvergreenBroadleafForests.eq(1).rename('EvergreenBroadleafForests'),\n",
    "    DeciduousNeedleleafForests.eq(1).rename('DeciduousNeedleleafForests'),\n",
    "    DeciduousBroadleafForests.eq(1).rename('DeciduousBroadleafForests'),\n",
    "    MixedForests.eq(1).rename('MixedForests'),\n",
    "    ClosedShrublands.eq(1).rename('ClosedShrublands'),\n",
    "    OpenShrublands.eq(1).rename('OpenShrublands'),\n",
    "    WoodySavannas.eq(1).rename('WoodySavannas'),\n",
    "    Savannas.eq(1).rename('Savannas'),\n",
    "    Grasslands.eq(1).rename('Grasslands'),\n",
    "    PermanentWetlands.eq(1).rename('PermanentWetlands'),\n",
    "    Croplands.eq(1).rename('Croplands'),\n",
    "    UrbanBuiltupLands.eq(1).rename('UrbanBuiltupLands'),\n",
    "    CroplandNaturalVegetationMosaics.eq(1).rename('CroplandNaturalVegetationMosaics'),\n",
    "    PermanentSnowandIce.eq(1).rename('PermanentSnowandIce'),\n",
    "    Barren.eq(1).rename('Barren'),\n",
    "    WaterBodies.eq(1).rename('WaterBodies'),\n",
    "    Unclassified.eq(1).rename('Unclassified'),\n",
    "    Land.eq(1).rename('Land'))\n",
    "\n",
    "    for i in range (0,yrange):\n",
    "        try:\n",
    "            y1 = ymin + i*dx\n",
    "            y2 = ymin + (i+1)*dx\n",
    "            grid = generateGrid(xmin, xmax, dx, y1, y2)\n",
    "            npsRes = cond.reduceRegions(grid, ee.Reducer.sum(), 500)\n",
    "            npsRes = npsRes.map(func_feh)\n",
    "            name='GLC_FCS30_'+'China_Fishnet_'+str(i)+'.csv'\n",
    "            out_dir = 'G:\\\\LUCC_China\\\\MCD12Q1_LC\\\\CN_Fishnet_'+str(year)\n",
    "            out_ndvi_stats = os.path.join(out_dir, name)\n",
    "            if not os.path.exists(out_dir):\n",
    "                os.makedirs(out_dir)\n",
    "            url = npsRes.getDownloadURL(filetype=\"csv\", selectors=['TARGET_FID', 'EvergreenNeedleleafForests',\n",
    "                                                                    'EvergreenBroadleafForests',\n",
    "                                                                    'DeciduousNeedleleafForests',\n",
    "                                                                    'DeciduousBroadleafForests',\n",
    "                                                                    'MixedForests',\n",
    "                                                                    'ClosedShrublands',\n",
    "                                                                    'OpenShrublands',\n",
    "                                                                    'WoodySavannas',\n",
    "                                                                    'Savannas',\n",
    "                                                                    'Grasslands',\n",
    "                                                                    'PermanentWetlands',\n",
    "                                                                    'Croplands',\n",
    "                                                                    'UrbanBuiltupLands',\n",
    "                                                                    'CroplandNaturalVegetationMosaics',\n",
    "                                                                    'PermanentSnowandIce',\n",
    "                                                                    'Barren',\n",
    "                                                                    'WaterBodies',\n",
    "                                                                    'Unclassified',\n",
    "                                                                    'Land'], filename=name)\n",
    "\n",
    "            print(url)\n",
    "            print(out_ndvi_stats)\n",
    "            get_request(url)\n",
    "        except Exception as e:\n",
    "            print(e)       "
   ]
  },
  {
   "cell_type": "code",
   "execution_count": null,
   "id": "594fc907",
   "metadata": {},
   "outputs": [],
   "source": []
  }
 ],
 "metadata": {
  "kernelspec": {
   "display_name": "Python 3 (ipykernel)",
   "language": "python",
   "name": "python3"
  },
  "language_info": {
   "codemirror_mode": {
    "name": "ipython",
    "version": 3
   },
   "file_extension": ".py",
   "mimetype": "text/x-python",
   "name": "python",
   "nbconvert_exporter": "python",
   "pygments_lexer": "ipython3",
   "version": "3.8.9"
  },
  "varInspector": {
   "cols": {
    "lenName": 16,
    "lenType": 16,
    "lenVar": 40
   },
   "kernels_config": {
    "python": {
     "delete_cmd_postfix": "",
     "delete_cmd_prefix": "del ",
     "library": "var_list.py",
     "varRefreshCmd": "print(var_dic_list())"
    },
    "r": {
     "delete_cmd_postfix": ") ",
     "delete_cmd_prefix": "rm(",
     "library": "var_list.r",
     "varRefreshCmd": "cat(var_dic_list()) "
    }
   },
   "position": {
    "height": "423.844px",
    "left": "2200px",
    "right": "20px",
    "top": "121px",
    "width": "315px"
   },
   "types_to_exclude": [
    "module",
    "function",
    "builtin_function_or_method",
    "instance",
    "_Feature"
   ],
   "window_display": true
  }
 },
 "nbformat": 4,
 "nbformat_minor": 5
}
